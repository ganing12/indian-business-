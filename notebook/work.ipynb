%pip install pyodbc  
%pip install python-dotenv 